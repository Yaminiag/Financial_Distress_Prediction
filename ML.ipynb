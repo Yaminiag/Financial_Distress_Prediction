{
 "cells": [
  {
   "cell_type": "code",
   "execution_count": 1,
   "metadata": {},
   "outputs": [],
   "source": [
    "import sys\n",
    "import pandas as pd\n",
    "import numpy as np\n",
    "import matplotlib.pyplot as plt\n",
    "from sklearn.metrics import f1_score, recall_score\n",
    "from sklearn.metrics import confusion_matrix\n",
    "from sklearn.metrics import precision_recall_fscore_support"
   ]
  },
  {
   "cell_type": "code",
   "execution_count": 2,
   "metadata": {},
   "outputs": [],
   "source": [
    "#Input Data\n",
    "df = pd.read_csv('Financial_Distress.csv')"
   ]
  },
  {
   "cell_type": "code",
   "execution_count": 3,
   "metadata": {},
   "outputs": [
    {
     "data": {
      "text/html": [
       "<div>\n",
       "<style scoped>\n",
       "    .dataframe tbody tr th:only-of-type {\n",
       "        vertical-align: middle;\n",
       "    }\n",
       "\n",
       "    .dataframe tbody tr th {\n",
       "        vertical-align: top;\n",
       "    }\n",
       "\n",
       "    .dataframe thead th {\n",
       "        text-align: right;\n",
       "    }\n",
       "</style>\n",
       "<table border=\"1\" class=\"dataframe\">\n",
       "  <thead>\n",
       "    <tr style=\"text-align: right;\">\n",
       "      <th></th>\n",
       "      <th>Company</th>\n",
       "      <th>Time</th>\n",
       "      <th>Financial Distress</th>\n",
       "      <th>x1</th>\n",
       "      <th>x2</th>\n",
       "      <th>x3</th>\n",
       "      <th>x4</th>\n",
       "      <th>x5</th>\n",
       "      <th>x6</th>\n",
       "      <th>x7</th>\n",
       "      <th>...</th>\n",
       "      <th>x75</th>\n",
       "      <th>x76</th>\n",
       "      <th>x77</th>\n",
       "      <th>x78</th>\n",
       "      <th>x79</th>\n",
       "      <th>x80</th>\n",
       "      <th>x81</th>\n",
       "      <th>x82</th>\n",
       "      <th>x83</th>\n",
       "      <th>Label</th>\n",
       "    </tr>\n",
       "  </thead>\n",
       "  <tbody>\n",
       "    <tr>\n",
       "      <th>0</th>\n",
       "      <td>1</td>\n",
       "      <td>1</td>\n",
       "      <td>0.010636</td>\n",
       "      <td>1.2810</td>\n",
       "      <td>0.022934</td>\n",
       "      <td>0.87454</td>\n",
       "      <td>1.21640</td>\n",
       "      <td>0.060940</td>\n",
       "      <td>0.188270</td>\n",
       "      <td>0.52510</td>\n",
       "      <td>...</td>\n",
       "      <td>27.07</td>\n",
       "      <td>26.102</td>\n",
       "      <td>16.000</td>\n",
       "      <td>16.0</td>\n",
       "      <td>0.2</td>\n",
       "      <td>22</td>\n",
       "      <td>0.060390</td>\n",
       "      <td>30</td>\n",
       "      <td>49</td>\n",
       "      <td>0</td>\n",
       "    </tr>\n",
       "    <tr>\n",
       "      <th>1</th>\n",
       "      <td>1</td>\n",
       "      <td>2</td>\n",
       "      <td>-0.455970</td>\n",
       "      <td>1.2700</td>\n",
       "      <td>0.006454</td>\n",
       "      <td>0.82067</td>\n",
       "      <td>1.00490</td>\n",
       "      <td>-0.014080</td>\n",
       "      <td>0.181040</td>\n",
       "      <td>0.62288</td>\n",
       "      <td>...</td>\n",
       "      <td>31.31</td>\n",
       "      <td>30.194</td>\n",
       "      <td>17.000</td>\n",
       "      <td>16.0</td>\n",
       "      <td>0.4</td>\n",
       "      <td>22</td>\n",
       "      <td>0.010636</td>\n",
       "      <td>31</td>\n",
       "      <td>50</td>\n",
       "      <td>0</td>\n",
       "    </tr>\n",
       "    <tr>\n",
       "      <th>2</th>\n",
       "      <td>1</td>\n",
       "      <td>3</td>\n",
       "      <td>-0.325390</td>\n",
       "      <td>1.0529</td>\n",
       "      <td>-0.059379</td>\n",
       "      <td>0.92242</td>\n",
       "      <td>0.72926</td>\n",
       "      <td>0.020476</td>\n",
       "      <td>0.044865</td>\n",
       "      <td>0.43292</td>\n",
       "      <td>...</td>\n",
       "      <td>36.07</td>\n",
       "      <td>35.273</td>\n",
       "      <td>17.000</td>\n",
       "      <td>15.0</td>\n",
       "      <td>-0.2</td>\n",
       "      <td>22</td>\n",
       "      <td>-0.455970</td>\n",
       "      <td>32</td>\n",
       "      <td>51</td>\n",
       "      <td>0</td>\n",
       "    </tr>\n",
       "    <tr>\n",
       "      <th>3</th>\n",
       "      <td>1</td>\n",
       "      <td>4</td>\n",
       "      <td>-0.566570</td>\n",
       "      <td>1.1131</td>\n",
       "      <td>-0.015229</td>\n",
       "      <td>0.85888</td>\n",
       "      <td>0.80974</td>\n",
       "      <td>0.076037</td>\n",
       "      <td>0.091033</td>\n",
       "      <td>0.67546</td>\n",
       "      <td>...</td>\n",
       "      <td>39.80</td>\n",
       "      <td>38.377</td>\n",
       "      <td>17.167</td>\n",
       "      <td>16.0</td>\n",
       "      <td>5.6</td>\n",
       "      <td>22</td>\n",
       "      <td>-0.325390</td>\n",
       "      <td>33</td>\n",
       "      <td>52</td>\n",
       "      <td>1</td>\n",
       "    </tr>\n",
       "    <tr>\n",
       "      <th>4</th>\n",
       "      <td>2</td>\n",
       "      <td>1</td>\n",
       "      <td>1.357300</td>\n",
       "      <td>1.0623</td>\n",
       "      <td>0.107020</td>\n",
       "      <td>0.81460</td>\n",
       "      <td>0.83593</td>\n",
       "      <td>0.199960</td>\n",
       "      <td>0.047800</td>\n",
       "      <td>0.74200</td>\n",
       "      <td>...</td>\n",
       "      <td>27.07</td>\n",
       "      <td>26.102</td>\n",
       "      <td>16.000</td>\n",
       "      <td>16.0</td>\n",
       "      <td>0.2</td>\n",
       "      <td>29</td>\n",
       "      <td>1.251000</td>\n",
       "      <td>7</td>\n",
       "      <td>27</td>\n",
       "      <td>0</td>\n",
       "    </tr>\n",
       "  </tbody>\n",
       "</table>\n",
       "<p>5 rows × 87 columns</p>\n",
       "</div>"
      ],
      "text/plain": [
       "   Company  Time  Financial Distress      x1        x2       x3       x4  \\\n",
       "0        1     1            0.010636  1.2810  0.022934  0.87454  1.21640   \n",
       "1        1     2           -0.455970  1.2700  0.006454  0.82067  1.00490   \n",
       "2        1     3           -0.325390  1.0529 -0.059379  0.92242  0.72926   \n",
       "3        1     4           -0.566570  1.1131 -0.015229  0.85888  0.80974   \n",
       "4        2     1            1.357300  1.0623  0.107020  0.81460  0.83593   \n",
       "\n",
       "         x5        x6       x7  ...      x75     x76     x77   x78  x79  x80  \\\n",
       "0  0.060940  0.188270  0.52510  ...    27.07  26.102  16.000  16.0  0.2   22   \n",
       "1 -0.014080  0.181040  0.62288  ...    31.31  30.194  17.000  16.0  0.4   22   \n",
       "2  0.020476  0.044865  0.43292  ...    36.07  35.273  17.000  15.0 -0.2   22   \n",
       "3  0.076037  0.091033  0.67546  ...    39.80  38.377  17.167  16.0  5.6   22   \n",
       "4  0.199960  0.047800  0.74200  ...    27.07  26.102  16.000  16.0  0.2   29   \n",
       "\n",
       "        x81  x82  x83  Label  \n",
       "0  0.060390   30   49      0  \n",
       "1  0.010636   31   50      0  \n",
       "2 -0.455970   32   51      0  \n",
       "3 -0.325390   33   52      1  \n",
       "4  1.251000    7   27      0  \n",
       "\n",
       "[5 rows x 87 columns]"
      ]
     },
     "execution_count": 3,
     "metadata": {},
     "output_type": "execute_result"
    }
   ],
   "source": [
    "#label 0 represents healthy and label 1 represents distressed.\n",
    "df[\"Label\"] = 1\n",
    "df.loc[ (df['Financial Distress']> -0.5),'Label'] = 0\n",
    "df.head()"
   ]
  },
  {
   "cell_type": "code",
   "execution_count": 4,
   "metadata": {
    "scrolled": true
   },
   "outputs": [
    {
     "name": "stdout",
     "output_type": "stream",
     "text": [
      "Total number of companies :  422\n",
      "Distressed Companies :  136\n"
     ]
    }
   ],
   "source": [
    "#Companies Statistics\n",
    "total_n = len(df.groupby('Company')['Company'].nunique())\n",
    "print(\"Total number of companies : \",total_n)\n",
    "\n",
    "distress_companies = df[df['Financial Distress'] < -0.5]\n",
    "u_distress = distress_companies['Company'].unique()\n",
    "print(\"Distressed Companies : \",u_distress.shape[0])"
   ]
  },
  {
   "cell_type": "code",
   "execution_count": 5,
   "metadata": {
    "scrolled": true
   },
   "outputs": [
    {
     "data": {
      "text/plain": [
       "Text(0,0.5,'Frequency')"
      ]
     },
     "execution_count": 5,
     "metadata": {},
     "output_type": "execute_result"
    },
    {
     "data": {
      "image/png": "[encoded data removed]",
      "text/plain": [
       "<Figure size 432x288 with 1 Axes>"
      ]
     },
     "metadata": {},
     "output_type": "display_data"
    }
   ],
   "source": [
    "plt.hist(df['Time'],bins=10,color=['red'],rwidth=0.85,alpha=0.75)\n",
    "plt.xlabel('Time')\n",
    "plt.ylabel('Frequency')"
   ]
  },
  {
   "cell_type": "code",
   "execution_count": 51,
   "metadata": {},
   "outputs": [],
   "source": [
    "#Splitting training and testing data\n",
    "def split(dfr,time):\n",
    "    X_train_set = df[df.Time <= time].drop(['Time','Company','x80'],axis=1)\n",
    "    y_train_label = np.array(X_train_set['Label'])\n",
    "    y_train_financial_distress = np.array(X_train_set['Financial Distress'])\n",
    "    X_train = X_train_set.drop(['Financial Distress','Label'],axis=1)\n",
    "    X_test_set = df[df.Time > time].drop(['Time','Company','x80'],axis=1)\n",
    "    y_test_label = np.array(X_test_set['Label'])\n",
    "    y_test_financial_distress = np.array(X_test_set['Financial Distress'])\n",
    "    X_test = X_test_set.drop(['Financial Distress','Label'],axis=1)\n",
    "    \n",
    "    return X_train, y_train_label, y_train_financial_distress,X_test,y_test_label, y_test_financial_distress\n",
    "\n",
    "X_train, y_train_label, y_train_financial_distress,X_test,y_test_label, y_test_financial_distress = split(df,10)\n",
    "#X_train.head()\n",
    "#y_train_label\n",
    "#y_train_financial_distress\n",
    "#X_test.head()\n",
    "#y_test_label\n",
    "#y_test_financial_distress"
   ]
  },
  {
   "cell_type": "code",
   "execution_count": 23,
   "metadata": {},
   "outputs": [
    {
     "name": "stdout",
     "output_type": "stream",
     "text": [
      "[[1052    0]\n",
      " [  31    0]]\n",
      "Accuracy Score : 0.971375807940905\n",
      "             precision    recall  f1-score   support\n",
      "\n",
      "          0       0.97      1.00      0.99      1052\n",
      "          1       0.00      0.00      0.00        31\n",
      "\n",
      "avg / total       0.94      0.97      0.96      1083\n",
      "\n"
     ]
    },
    {
     "name": "stderr",
     "output_type": "stream",
     "text": [
      "/home/yamini/anaconda3/lib/python3.6/site-packages/sklearn/metrics/classification.py:1135: UndefinedMetricWarning: Precision and F-score are ill-defined and being set to 0.0 in labels with no predicted samples.\n",
      "  'precision', 'predicted', average, warn_for)\n"
     ]
    }
   ],
   "source": [
    "#Logistic Regression\n",
    "from sklearn.linear_model import LogisticRegression\n",
    "from sklearn.metrics import confusion_matrix \n",
    "from sklearn.metrics import classification_report \n",
    "from sklearn.metrics import accuracy_score \n",
    "\n",
    "\n",
    "clf = LogisticRegression(random_state=0).fit(X_train, y_train_label)\n",
    "y_predicted = clf.predict(X_test)\n",
    "# precision, recall, f_score, support = precision_recall_fscore_support(y_test_label, y_predicted)\n",
    "  \n",
    "cm = confusion_matrix(y_test_label, y_predicted)\n",
    "print(cm)\n",
    "print ('Accuracy Score :',accuracy_score(y_test_label, y_predicted)) \n",
    "print (classification_report(y_test_label, y_predicted))"
   ]
  },
  {
   "cell_type": "code",
   "execution_count": null,
   "metadata": {},
   "outputs": [],
   "source": []
  },
  {
   "cell_type": "code",
   "execution_count": 56,
   "metadata": {},
   "outputs": [
    {
     "data": {
      "text/plain": [
       "array([[-5.51280954,  2.26487999, -0.42873143, -1.16834861,  0.49354333],\n",
       "       [-4.94590399,  0.72797347,  0.06093393, -1.75212084, -0.75300113],\n",
       "       [-7.68204527, -2.14717838, -0.08085922, -1.70282053,  1.09919774],\n",
       "       ...,\n",
       "       [ 8.67294371, -1.13584705,  0.22391705, -0.32111605, -1.94020753],\n",
       "       [ 9.63302143,  0.6294561 ,  0.18712375, -0.58818244, -2.3127468 ],\n",
       "       [10.04315589, -3.58546137,  0.09626116,  0.72838856, -0.7197733 ]])"
      ]
     },
     "execution_count": 56,
     "metadata": {},
     "output_type": "execute_result"
    }
   ],
   "source": [
    "#PCA\n",
    "from sklearn.preprocessing import StandardScaler\n",
    "from sklearn.decomposition import PCA \n",
    "  \n",
    "scaler = StandardScaler()\n",
    "X_train_scaled = scaler.fit_transform(pd.DataFrame(X_train).values)\n",
    "X_test_scaled = scaler.fit_transform(pd.DataFrame(X_test).values)\n",
    "\n",
    "pca = PCA(n_components = 3) \n",
    "\n",
    "X_train_pca = pca.fit_transform(X_train_scaled) \n",
    "X_test_pca = pca.transform(X_test_scaled) \n",
    "  \n",
    "explained_variance = pca.explained_variance_ratio_ \n",
    "explained_variance\n",
    "\n",
    "X_train_pca"
   ]
  },
  {
   "cell_type": "code",
   "execution_count": 57,
   "metadata": {},
   "outputs": [
    {
     "name": "stdout",
     "output_type": "stream",
     "text": [
      "[[1046    6]\n",
      " [  24    7]]\n",
      "Accuracy Score : 0.9722991689750693\n",
      "             precision    recall  f1-score   support\n",
      "\n",
      "          0       0.98      0.99      0.99      1052\n",
      "          1       0.54      0.23      0.32        31\n",
      "\n",
      "avg / total       0.97      0.97      0.97      1083\n",
      "\n"
     ]
    }
   ],
   "source": [
    "clf = LogisticRegression(random_state=0).fit(X_train_pca, y_train_label)\n",
    "y_predicted = clf.predict(X_test_pca)\n",
    "# precision, recall, f_score, support = precision_recall_fscore_support(y_test_label, y_predicted)\n",
    "  \n",
    "cm = confusion_matrix(y_test_label, y_predicted)\n",
    "print(cm)\n",
    "print ('Accuracy Score :',accuracy_score(y_test_label, y_predicted)) \n",
    "print (classification_report(y_test_label, y_predicted))"
   ]
  }
 ],
 "metadata": {
  "kernelspec": {
   "display_name": "Python 3",
   "language": "python",
   "name": "python3"
  },
  "language_info": {
   "codemirror_mode": {
    "name": "ipython",
    "version": 3
   },
   "file_extension": ".py",
   "mimetype": "text/x-python",
   "name": "python",
   "nbconvert_exporter": "python",
   "pygments_lexer": "ipython3",
   "version": "3.6.5"
  }
 },
 "nbformat": 4,
 "nbformat_minor": 2
}
